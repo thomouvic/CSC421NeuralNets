{
  "nbformat": 4,
  "nbformat_minor": 0,
  "metadata": {
    "kernelspec": {
      "display_name": "Python 3",
      "language": "python",
      "name": "python3"
    },
    "language_info": {
      "codemirror_mode": {
        "name": "ipython",
        "version": 3
      },
      "file_extension": ".py",
      "mimetype": "text/x-python",
      "name": "python",
      "nbconvert_exporter": "python",
      "pygments_lexer": "ipython3",
      "version": "3.5.4"
    },
    "colab": {
      "provenance": [],
      "include_colab_link": true
    }
  },
  "cells": [
    {
      "cell_type": "markdown",
      "metadata": {
        "id": "view-in-github",
        "colab_type": "text"
      },
      "source": [
        "<a href=\"https://colab.research.google.com/github/thomouvic/CSC421NeuralNets/blob/main/introduction_to_numpy.ipynb\" target=\"_parent\"><img src=\"https://colab.research.google.com/assets/colab-badge.svg\" alt=\"Open In Colab\"/></a>"
      ]
    },
    {
      "cell_type": "markdown",
      "metadata": {
        "id": "V0NCZM5PyaEL"
      },
      "source": [
        "Numpy Tutorial\n",
        "--"
      ]
    },
    {
      "cell_type": "code",
      "metadata": {
        "id": "JlQSSYtqyaEO"
      },
      "source": [
        "import numpy as np"
      ],
      "execution_count": 1,
      "outputs": []
    },
    {
      "cell_type": "markdown",
      "metadata": {
        "id": "Hr3h8z9qyaET"
      },
      "source": [
        "Arrays\n",
        "--\n",
        "\n",
        "The main entity is the \"array\". They are also called tensors.\n",
        "\n",
        "Arrays have a shape, e.g. 3x4, which is represented by a tuple, e.g. (3,4)."
      ]
    },
    {
      "cell_type": "code",
      "metadata": {
        "id": "Pb-mUOe_yaET",
        "outputId": "b16c877d-ea8b-4ed4-a785-ba1818c01f50",
        "colab": {
          "base_uri": "https://localhost:8080/"
        }
      },
      "source": [
        "a = np.array([1, 2, 3])  # Create a rank 1 array\n",
        "print (a.shape)            # Prints \"(3,)\"\n",
        "print (a[0], a[1], a[2])   # Prints \"1 2 3\"\n",
        "\n",
        "a[0] = 5                 # Change an element of the array\n",
        "print (a)                  # Prints \"[5, 2, 3]\""
      ],
      "execution_count": 2,
      "outputs": [
        {
          "output_type": "stream",
          "name": "stdout",
          "text": [
            "(3,)\n",
            "1 2 3\n",
            "[5 2 3]\n"
          ]
        }
      ]
    },
    {
      "cell_type": "code",
      "metadata": {
        "id": "BRKmYULzyaEZ",
        "outputId": "7432db3b-9a49-4a80-a88f-ecca9f79b4c2",
        "colab": {
          "base_uri": "https://localhost:8080/"
        }
      },
      "source": [
        "b = np.array([[1,2,3],[4,5,6]])   # Create a rank 2 array\n",
        "print (b.shape)                     # Prints \"(2, 3)\"\n",
        "print (b[0, 0], b[0, 1], b[1, 0])   # Prints \"1 2 4\""
      ],
      "execution_count": 3,
      "outputs": [
        {
          "output_type": "stream",
          "name": "stdout",
          "text": [
            "(2, 3)\n",
            "1 2 4\n"
          ]
        }
      ]
    },
    {
      "cell_type": "markdown",
      "metadata": {
        "id": "wOLYKeJSyaEe"
      },
      "source": [
        "Array Math\n",
        "--"
      ]
    },
    {
      "cell_type": "code",
      "metadata": {
        "id": "julhiyu0yaEf"
      },
      "source": [
        "x = np.array( [[1,2],[3,4]] )\n",
        "y = np.array( [[5,6],[7,8]] )"
      ],
      "execution_count": 4,
      "outputs": []
    },
    {
      "cell_type": "code",
      "metadata": {
        "id": "3GZ_KmSNyaEh",
        "outputId": "a8ee8bf7-198d-48e6-bc7b-2cb7406099a4",
        "colab": {
          "base_uri": "https://localhost:8080/"
        }
      },
      "source": [
        "# Elementwise sum\n",
        "z = x + y\n",
        "print (\"x+y = \\n\", z, \"\\n\")\n",
        "\n",
        "# Elementwise difference\n",
        "z = x - y\n",
        "print (\"x-y = \\n\", z, \"\\n\")\n",
        "\n",
        "# Elementwise product\n",
        "z = x * y\n",
        "print (\"x*y = \\n\", z, \"\\n\")"
      ],
      "execution_count": 5,
      "outputs": [
        {
          "output_type": "stream",
          "name": "stdout",
          "text": [
            "x+y = \n",
            " [[ 6  8]\n",
            " [10 12]] \n",
            "\n",
            "x-y = \n",
            " [[-4 -4]\n",
            " [-4 -4]] \n",
            "\n",
            "x*y = \n",
            " [[ 5 12]\n",
            " [21 32]] \n",
            "\n"
          ]
        }
      ]
    },
    {
      "cell_type": "code",
      "metadata": {
        "id": "F2bHAfvKyaEk",
        "outputId": "11db5e96-b57f-4ccd-9ce0-75765698a2a5",
        "colab": {
          "base_uri": "https://localhost:8080/"
        }
      },
      "source": [
        "z = x @ y     # Only in Python 3\n",
        "print (\"x @ y = \\n\", z, \"\\n\")"
      ],
      "execution_count": 6,
      "outputs": [
        {
          "output_type": "stream",
          "name": "stdout",
          "text": [
            "x @ y = \n",
            " [[19 22]\n",
            " [43 50]] \n",
            "\n"
          ]
        }
      ]
    },
    {
      "cell_type": "code",
      "metadata": {
        "id": "FP2Tlg8DyaEn",
        "outputId": "a8242b0f-4ed9-4ad7-d4a7-f8264aa805a0",
        "colab": {
          "base_uri": "https://localhost:8080/"
        }
      },
      "source": [
        "# Matrix transpose\n",
        "z = x.T\n",
        "print (\"x.T = \\n\", z, \"\\n\")"
      ],
      "execution_count": 7,
      "outputs": [
        {
          "output_type": "stream",
          "name": "stdout",
          "text": [
            "x.T = \n",
            " [[1 3]\n",
            " [2 4]] \n",
            "\n"
          ]
        }
      ]
    },
    {
      "cell_type": "code",
      "metadata": {
        "id": "3qFavU2VyaEr",
        "outputId": "47199331-dc28-4ca7-dd99-9de3ca71ff30",
        "colab": {
          "base_uri": "https://localhost:8080/"
        }
      },
      "source": [
        "# Multiplying a matrix with a number\n",
        "z = x * 2\n",
        "print (\"x*2 = \\n\", z, \"\\n\")"
      ],
      "execution_count": 8,
      "outputs": [
        {
          "output_type": "stream",
          "name": "stdout",
          "text": [
            "x*2 = \n",
            " [[2 4]\n",
            " [6 8]] \n",
            "\n"
          ]
        }
      ]
    },
    {
      "cell_type": "code",
      "metadata": {
        "id": "2U82zjZpyaEt",
        "outputId": "7ef48eea-f97a-499a-bc86-157eee765975",
        "colab": {
          "base_uri": "https://localhost:8080/"
        }
      },
      "source": [
        "# Create a 3x4 array of zeros\n",
        "x = np.zeros((3,4))\n",
        "print(x)"
      ],
      "execution_count": 9,
      "outputs": [
        {
          "output_type": "stream",
          "name": "stdout",
          "text": [
            "[[0. 0. 0. 0.]\n",
            " [0. 0. 0. 0.]\n",
            " [0. 0. 0. 0.]]\n"
          ]
        }
      ]
    },
    {
      "cell_type": "code",
      "metadata": {
        "id": "z6D5Ug1_yaEw",
        "outputId": "6f92359a-c05a-414e-8041-b753f7b656d0",
        "colab": {
          "base_uri": "https://localhost:8080/"
        }
      },
      "source": [
        "# Create a 3x4 array of ones\n",
        "x = np.ones((3,4))\n",
        "print(x)"
      ],
      "execution_count": 10,
      "outputs": [
        {
          "output_type": "stream",
          "name": "stdout",
          "text": [
            "[[1. 1. 1. 1.]\n",
            " [1. 1. 1. 1.]\n",
            " [1. 1. 1. 1.]]\n"
          ]
        }
      ]
    },
    {
      "cell_type": "code",
      "metadata": {
        "id": "Hx7MkuqQyaEz",
        "outputId": "49cad533-30df-4eb4-fedb-3db6610fbaca",
        "colab": {
          "base_uri": "https://localhost:8080/"
        }
      },
      "source": [
        "# Create an array of the given shape and populate it \n",
        "# with random samples from a uniform distribution over [0, 1).\n",
        "\n",
        "x = np.random.rand(3,4)\n",
        "print(x)"
      ],
      "execution_count": 11,
      "outputs": [
        {
          "output_type": "stream",
          "name": "stdout",
          "text": [
            "[[0.22800191 0.94138294 0.60151714 0.07539998]\n",
            " [0.10616044 0.63546226 0.47994001 0.61440107]\n",
            " [0.53917097 0.32742502 0.53678676 0.10695444]]\n"
          ]
        }
      ]
    },
    {
      "cell_type": "code",
      "metadata": {
        "id": "03NNIFPoyaE2",
        "outputId": "ac2f3413-2ce6-48a7-d030-3c73b0680d20",
        "colab": {
          "base_uri": "https://localhost:8080/"
        }
      },
      "source": [
        "# Create an array of the given shape and populate it \n",
        "# with random samples from \"standard normal\" distribution\n",
        "# (mean = 0, var = 1).\n",
        "\n",
        "x = np.random.randn(3,4)\n",
        "print(x)"
      ],
      "execution_count": 12,
      "outputs": [
        {
          "output_type": "stream",
          "name": "stdout",
          "text": [
            "[[ 0.74504997 -0.75204405 -0.09702109  0.79346522]\n",
            " [-0.3129086   0.20266812  1.13560027 -0.3898619 ]\n",
            " [-0.62771322 -0.65024079 -0.85132976  0.35430582]]\n"
          ]
        }
      ]
    },
    {
      "cell_type": "markdown",
      "metadata": {
        "id": "WTXqG4z3yaE4"
      },
      "source": [
        "Reshaping Arrays\n",
        "--"
      ]
    },
    {
      "cell_type": "code",
      "metadata": {
        "id": "-qETBu9ByaE5",
        "outputId": "8c1358c0-b139-4a24-8340-681f63f8afca",
        "colab": {
          "base_uri": "https://localhost:8080/"
        }
      },
      "source": [
        "print(\"x = \\n\",x)\n",
        "\n",
        "z = np.reshape(x, (4,3))\n",
        "\n",
        "print(\"z = \\n\", z)"
      ],
      "execution_count": 13,
      "outputs": [
        {
          "output_type": "stream",
          "name": "stdout",
          "text": [
            "x = \n",
            " [[ 0.74504997 -0.75204405 -0.09702109  0.79346522]\n",
            " [-0.3129086   0.20266812  1.13560027 -0.3898619 ]\n",
            " [-0.62771322 -0.65024079 -0.85132976  0.35430582]]\n",
            "z = \n",
            " [[ 0.74504997 -0.75204405 -0.09702109]\n",
            " [ 0.79346522 -0.3129086   0.20266812]\n",
            " [ 1.13560027 -0.3898619  -0.62771322]\n",
            " [-0.65024079 -0.85132976  0.35430582]]\n"
          ]
        }
      ]
    },
    {
      "cell_type": "code",
      "metadata": {
        "id": "ON1RZVXoyaE8",
        "outputId": "a0b9e93b-fcc8-4bb1-d591-2ee015a7da61",
        "colab": {
          "base_uri": "https://localhost:8080/"
        }
      },
      "source": [
        "# We will often want to reshape 2D images to nx1 or 1xn arrays.\n",
        "\n",
        "z = np.reshape(x, (x.shape[0] * x.shape[1], 1) )\n",
        "\n",
        "print(\"z = \\n\", z)"
      ],
      "execution_count": 14,
      "outputs": [
        {
          "output_type": "stream",
          "name": "stdout",
          "text": [
            "z = \n",
            " [[ 0.74504997]\n",
            " [-0.75204405]\n",
            " [-0.09702109]\n",
            " [ 0.79346522]\n",
            " [-0.3129086 ]\n",
            " [ 0.20266812]\n",
            " [ 1.13560027]\n",
            " [-0.3898619 ]\n",
            " [-0.62771322]\n",
            " [-0.65024079]\n",
            " [-0.85132976]\n",
            " [ 0.35430582]]\n"
          ]
        }
      ]
    },
    {
      "cell_type": "code",
      "metadata": {
        "id": "7cl5zNnCyaFA",
        "outputId": "59dadcbc-7584-4acf-9387-af89cbdd1268",
        "colab": {
          "base_uri": "https://localhost:8080/"
        }
      },
      "source": [
        "# If we also call x.reshape(...); same as np.reshape(x,...)\n",
        "\n",
        "z = x.reshape( (x.shape[0] * x.shape[1], 1) )\n",
        "\n",
        "print(\"z = \\n\", z)"
      ],
      "execution_count": 15,
      "outputs": [
        {
          "output_type": "stream",
          "name": "stdout",
          "text": [
            "z = \n",
            " [[ 0.74504997]\n",
            " [-0.75204405]\n",
            " [-0.09702109]\n",
            " [ 0.79346522]\n",
            " [-0.3129086 ]\n",
            " [ 0.20266812]\n",
            " [ 1.13560027]\n",
            " [-0.3898619 ]\n",
            " [-0.62771322]\n",
            " [-0.65024079]\n",
            " [-0.85132976]\n",
            " [ 0.35430582]]\n"
          ]
        }
      ]
    },
    {
      "cell_type": "markdown",
      "metadata": {
        "id": "wGHosdvNyaFC"
      },
      "source": [
        "Array Slicing\n",
        "--\n",
        "Array slicing is similar to list slicing, but here we need to do slicing in each dimension."
      ]
    },
    {
      "cell_type": "code",
      "metadata": {
        "id": "o-VRg1w4yaFD",
        "outputId": "85b9c62b-0035-4829-c2f4-d3d91bfcae89",
        "colab": {
          "base_uri": "https://localhost:8080/"
        }
      },
      "source": [
        "# Let's create an array\n",
        "a = np.array([[1,2,3,4], [5,6,7,8], [9,10,11,12]])\n",
        "print(a)"
      ],
      "execution_count": 16,
      "outputs": [
        {
          "output_type": "stream",
          "name": "stdout",
          "text": [
            "[[ 1  2  3  4]\n",
            " [ 5  6  7  8]\n",
            " [ 9 10 11 12]]\n"
          ]
        }
      ]
    },
    {
      "cell_type": "code",
      "metadata": {
        "id": "S7kJ8myOyaFG",
        "outputId": "da553cec-4546-42d0-befe-2acb8373915d",
        "colab": {
          "base_uri": "https://localhost:8080/"
        }
      },
      "source": [
        "# Slice in the 1st dimension from 0 to 2 (not including 2)\n",
        "# Slice in the 2nd dimension from 1 to 3 (not including 3)\n",
        "b = a[0:2, 1:3]\n",
        "\n",
        "print(b)"
      ],
      "execution_count": 17,
      "outputs": [
        {
          "output_type": "stream",
          "name": "stdout",
          "text": [
            "[[2 3]\n",
            " [6 7]]\n"
          ]
        }
      ]
    },
    {
      "cell_type": "code",
      "metadata": {
        "id": "SP5QJhOfyaFL",
        "outputId": "bbdb188e-a380-45e3-fdb4-f543f8f77eb6",
        "colab": {
          "base_uri": "https://localhost:8080/"
        }
      },
      "source": [
        "# The previous example can also be written as follows.\n",
        "# We don't need to specify 0. \n",
        "b = a[:2, 1:3]\n",
        "\n",
        "print(b)"
      ],
      "execution_count": 18,
      "outputs": [
        {
          "output_type": "stream",
          "name": "stdout",
          "text": [
            "[[2 3]\n",
            " [6 7]]\n"
          ]
        }
      ]
    },
    {
      "cell_type": "code",
      "metadata": {
        "id": "RRNP6uqyyaFN",
        "outputId": "7972404b-0678-4b4e-d344-90c0da6b5cdb",
        "colab": {
          "base_uri": "https://localhost:8080/"
        }
      },
      "source": [
        "# Here is another example\n",
        "b = a[:2, 1:4]\n",
        "\n",
        "print(b)"
      ],
      "execution_count": 19,
      "outputs": [
        {
          "output_type": "stream",
          "name": "stdout",
          "text": [
            "[[2 3 4]\n",
            " [6 7 8]]\n"
          ]
        }
      ]
    },
    {
      "cell_type": "code",
      "metadata": {
        "id": "1Cxnnr6WyaFV",
        "outputId": "ed9a3026-9317-4e6d-d71b-200114c4bbf0",
        "colab": {
          "base_uri": "https://localhost:8080/"
        }
      },
      "source": [
        "# The previous example can also be written as follows.\n",
        "# We don't need to specify 4. \n",
        "b = a[:2, 1:]\n",
        "\n",
        "print(b)"
      ],
      "execution_count": 20,
      "outputs": [
        {
          "output_type": "stream",
          "name": "stdout",
          "text": [
            "[[2 3 4]\n",
            " [6 7 8]]\n"
          ]
        }
      ]
    },
    {
      "cell_type": "code",
      "metadata": {
        "id": "Y5IE7njtyaFe",
        "outputId": "9ff6bc82-f83e-43db-cd10-0eb382c47160",
        "colab": {
          "base_uri": "https://localhost:8080/"
        }
      },
      "source": [
        "# Negative indexes are used to count backwards from the end of a range. \n",
        "# Suppose we want all the rows of an array, and all the columns, except the last column.\n",
        "\n",
        "# Let's recall a\n",
        "print(\"a = \\n\", a)\n",
        "\n",
        "# Now let's take the slice we want\n",
        "b = a[:, :-1]\n",
        "\n",
        "print(\"b = \\n\", b)"
      ],
      "execution_count": 21,
      "outputs": [
        {
          "output_type": "stream",
          "name": "stdout",
          "text": [
            "a = \n",
            " [[ 1  2  3  4]\n",
            " [ 5  6  7  8]\n",
            " [ 9 10 11 12]]\n",
            "b = \n",
            " [[ 1  2  3]\n",
            " [ 5  6  7]\n",
            " [ 9 10 11]]\n"
          ]
        }
      ]
    },
    {
      "cell_type": "markdown",
      "metadata": {
        "id": "cemSyH7hyaFg"
      },
      "source": [
        "Numpy Math Functions\n",
        "--\n",
        "Numpy functions, such as exp and log, \n",
        "take arrays as input and produce arrays as output. \n",
        "They compute the function on each element of the input array."
      ]
    },
    {
      "cell_type": "code",
      "metadata": {
        "id": "AB1AU71xyaFh",
        "outputId": "ede6328b-abbb-4abf-f5ea-dd8297e08ba2",
        "colab": {
          "base_uri": "https://localhost:8080/"
        }
      },
      "source": [
        "# Let's create a 1x3 array\n",
        "a = np.array([[1,2,3,4]])\n",
        "\n",
        "# compute e^x for each number in the array\n",
        "print(\"np.exp(a) = \\n\", np.exp(a))\n",
        "\n",
        "# compute the log (base e) of each number in the array\n",
        "print(\"np.log(a) = \\n\", np.log(a))"
      ],
      "execution_count": 22,
      "outputs": [
        {
          "output_type": "stream",
          "name": "stdout",
          "text": [
            "np.exp(a) = \n",
            " [[ 2.71828183  7.3890561  20.08553692 54.59815003]]\n",
            "np.log(a) = \n",
            " [[0.         0.69314718 1.09861229 1.38629436]]\n"
          ]
        }
      ]
    },
    {
      "cell_type": "markdown",
      "metadata": {
        "id": "6lGhfg2iyaFk"
      },
      "source": [
        "**The Sigmoid Function**\n",
        "\n",
        "An important function in neural networks is the Sigmoid function, sometimes known as the logistic function\n",
        "$$\n",
        "sigmoid(x) = \\frac{1}{1+e^{-x}}.\n",
        "$$\n",
        "Let's implement it using numpy."
      ]
    },
    {
      "cell_type": "code",
      "metadata": {
        "id": "RtJCHQSbyaFk",
        "outputId": "85ae451f-de31-406a-d6cb-9dd2c773cd6d",
        "colab": {
          "base_uri": "https://localhost:8080/"
        }
      },
      "source": [
        "def sigmoid(x):\n",
        "    return 1/(1+np.exp(-x))\n",
        "\n",
        "sigmoid(a)"
      ],
      "execution_count": 23,
      "outputs": [
        {
          "output_type": "execute_result",
          "data": {
            "text/plain": [
              "array([[0.73105858, 0.88079708, 0.95257413, 0.98201379]])"
            ]
          },
          "metadata": {},
          "execution_count": 23
        }
      ]
    },
    {
      "cell_type": "markdown",
      "metadata": {
        "id": "9a61kxpEyaFo"
      },
      "source": [
        "**Axis and keepdims**\n",
        "\n",
        "Some numpy functions, such as sum, avg, min, max, etc, take as input an array and return a number, e.g. the sum, average, min, max of the elements of the array. What if we want the sum, average, min, max of each row or each column? For this we use *axis* and *keepdims*. See examples below."
      ]
    },
    {
      "cell_type": "code",
      "metadata": {
        "id": "h4GoDY7cyaFo",
        "outputId": "feae3f57-4db9-4b07-f8ed-e1b8aeb846a9",
        "colab": {
          "base_uri": "https://localhost:8080/"
        }
      },
      "source": [
        "# Let's create an array\n",
        "a = np.array([[1,2,3,4], [5,6,7,8], [9,10,11,12]])\n",
        "\n",
        "a\n",
        "\n",
        "# Sum of all elements in the array\n",
        "np.sum(a)\n",
        "\n",
        "# Sum of elements in each column\n",
        "np.sum(a, axis=0)\n",
        "\n",
        "# Sum of elements in each row\n",
        "np.sum(a, axis=1)\n",
        "\n",
        "# The problem with the above is that the result is not a 2D array. \n",
        "# If we need the result to be a 2D array, specify keepdims=True.\n",
        "\n",
        "np.sum(a, keepdims=True)\n",
        "\n",
        "np.sum(a, axis=0, keepdims=True)\n",
        "\n",
        "np.sum(a, axis=1, keepdims=True)"
      ],
      "execution_count": 24,
      "outputs": [
        {
          "output_type": "execute_result",
          "data": {
            "text/plain": [
              "array([[10],\n",
              "       [26],\n",
              "       [42]])"
            ]
          },
          "metadata": {},
          "execution_count": 24
        }
      ]
    },
    {
      "cell_type": "markdown",
      "metadata": {
        "id": "eajyjf2qyaFq"
      },
      "source": [
        "Broadcasting\n",
        "--\n",
        "We can perform operations with arrays of different shapes. For example suppose we have an array \n",
        "$$\n",
        "a = \\begin{bmatrix}\n",
        "    1 & 2 & 3 & 4  \\\\\n",
        "    5 & 6 & 7 & 8 \\\\\n",
        "    9 & 10 & 11 & 12 \n",
        "\\end{bmatrix}\n",
        "$$\n",
        "and would like to multiply it with \n",
        "$$\n",
        "b = \\begin{bmatrix}\n",
        "    1 \\\\\n",
        "    5 \\\\\n",
        "    9  \n",
        "\\end{bmatrix}\n",
        "$$\n",
        "If we say $a*b$, array $b$ will be first expanded (broadcast) to \n",
        "\\begin{bmatrix}\n",
        "    1 & 1 & 1 & 1\\\\\n",
        "    5 & 5 & 5 & 5\\\\\n",
        "    9 & 9 & 9 & 9 \n",
        "\\end{bmatrix}\n",
        "then element-wise multiplication will be performed. "
      ]
    },
    {
      "cell_type": "code",
      "metadata": {
        "id": "cccNvW74yaFr",
        "outputId": "16411863-34f3-42da-a515-331c9377800b",
        "colab": {
          "base_uri": "https://localhost:8080/"
        }
      },
      "source": [
        "a\n",
        "\n",
        "b = np.array([[1],[5],[9]])\n",
        "\n",
        "b\n",
        "\n",
        "a*b"
      ],
      "execution_count": 25,
      "outputs": [
        {
          "output_type": "execute_result",
          "data": {
            "text/plain": [
              "array([[  1,   2,   3,   4],\n",
              "       [ 25,  30,  35,  40],\n",
              "       [ 81,  90,  99, 108]])"
            ]
          },
          "metadata": {},
          "execution_count": 25
        }
      ]
    }
  ]
}