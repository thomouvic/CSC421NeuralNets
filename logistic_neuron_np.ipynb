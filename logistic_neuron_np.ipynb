{
  "nbformat": 4,
  "nbformat_minor": 0,
  "metadata": {
    "kernelspec": {
      "display_name": "Python 3",
      "language": "python",
      "name": "python3"
    },
    "language_info": {
      "codemirror_mode": {
        "name": "ipython",
        "version": 3
      },
      "file_extension": ".py",
      "mimetype": "text/x-python",
      "name": "python",
      "nbconvert_exporter": "python",
      "pygments_lexer": "ipython3",
      "version": "3.5.4"
    },
    "colab": {
      "provenance": [],
      "include_colab_link": true
    }
  },
  "cells": [
    {
      "cell_type": "markdown",
      "metadata": {
        "id": "view-in-github",
        "colab_type": "text"
      },
      "source": [
        "<a href=\"https://colab.research.google.com/github/thomouvic/CSC421NeuralNets/blob/main/logistic_neuron_np.ipynb\" target=\"_parent\"><img src=\"https://colab.research.google.com/assets/colab-badge.svg\" alt=\"Open In Colab\"/></a>"
      ]
    },
    {
      "cell_type": "code",
      "metadata": {
        "id": "hutrlSw6u5mV"
      },
      "source": [
        "from tensorflow import keras\n",
        "import numpy as np\n",
        "import matplotlib.pyplot as plt\n",
        "import scipy\n",
        "from scipy import ndimage\n",
        "import time"
      ],
      "execution_count": 1,
      "outputs": []
    },
    {
      "cell_type": "code",
      "metadata": {
        "id": "ihhpC_oCu5mc",
        "outputId": "eea84898-c9f5-4a54-f2c1-16e60b6706e7",
        "colab": {
          "base_uri": "https://localhost:8080/"
        }
      },
      "source": [
        "(X, Y), (X_test, Y_test) = keras.datasets.mnist.load_data()\n",
        "\n",
        "print(\"Train dataset shape\", X.shape, Y.shape)\n",
        "print(\"Test dataset shape\", X_test.shape, Y_test.shape)\n",
        "\n",
        "print(X[1,:,:].shape)"
      ],
      "execution_count": 2,
      "outputs": [
        {
          "output_type": "stream",
          "name": "stdout",
          "text": [
            "Downloading data from https://storage.googleapis.com/tensorflow/tf-keras-datasets/mnist.npz\n",
            "11490434/11490434 [==============================] - 0s 0us/step\n",
            "Train dataset shape (60000, 28, 28) (60000,)\n",
            "Test dataset shape (10000, 28, 28) (10000,)\n",
            "(28, 28)\n"
          ]
        }
      ]
    },
    {
      "cell_type": "code",
      "metadata": {
        "id": "9Q0ghEUvu5mf",
        "outputId": "5fbd9700-a9c3-482e-85ff-dbbac58bf8b1",
        "colab": {
          "base_uri": "https://localhost:8080/",
          "height": 282
        }
      },
      "source": [
        "plt.figure()\n",
        "plt.imshow(X[1,:,:], cmap='Greys')"
      ],
      "execution_count": 3,
      "outputs": [
        {
          "output_type": "execute_result",
          "data": {
            "text/plain": [
              "<matplotlib.image.AxesImage at 0x7f2310e63550>"
            ]
          },
          "metadata": {},
          "execution_count": 3
        },
        {
          "output_type": "display_data",
          "data": {
            "text/plain": [
              "<Figure size 432x288 with 1 Axes>"
            ],
            "image/png": "[encoded data removed]"
          },
          "metadata": {
            "needs_background": "light"
          }
        }
      ]
    },
    {
      "cell_type": "code",
      "metadata": {
        "id": "QrwDZHaau5mi",
        "outputId": "5eccbea0-9852-45c2-babe-33149bb5af86",
        "colab": {
          "base_uri": "https://localhost:8080/"
        }
      },
      "source": [
        "print(\"Train dataset shape\", X.shape, Y.shape)\n",
        "print(\"Test dataset shape\", X_test.shape, Y_test.shape)"
      ],
      "execution_count": 4,
      "outputs": [
        {
          "output_type": "stream",
          "name": "stdout",
          "text": [
            "Train dataset shape (60000, 28, 28) (60000,)\n",
            "Test dataset shape (10000, 28, 28) (10000,)\n"
          ]
        }
      ]
    },
    {
      "cell_type": "code",
      "metadata": {
        "id": "RTdedYbxv8Sp",
        "outputId": "f86be830-fe3c-4649-cbf3-537bba505a32",
        "colab": {
          "base_uri": "https://localhost:8080/"
        }
      },
      "source": [
        "# Reshape X to (60000,784), Y to (60000,1)\n",
        "# Reshape X_test to (10000,784), Y_test to (10000,1)\n",
        "\n",
        "X = X.reshape(X.shape[0], X.shape[1]*X.shape[2])\n",
        "X_test = X_test.reshape(X_test.shape[0], X_test.shape[1]*X_test.shape[2])\n",
        "\n",
        "Y = Y.reshape((Y.shape[0],1))\n",
        "Y_test = Y_test.reshape((Y_test.shape[0],1))\n",
        "\n",
        "print(\"Train dataset shape\", X.shape, Y.shape)\n",
        "print(\"Test dataset shape\", X_test.shape, Y_test.shape)\n",
        "\n",
        "print(\"Y =\", Y)"
      ],
      "execution_count": 5,
      "outputs": [
        {
          "output_type": "stream",
          "name": "stdout",
          "text": [
            "Train dataset shape (60000, 784) (60000, 1)\n",
            "Test dataset shape (10000, 784) (10000, 1)\n",
            "Y = [[5]\n",
            " [0]\n",
            " [4]\n",
            " ...\n",
            " [5]\n",
            " [6]\n",
            " [8]]\n"
          ]
        }
      ]
    },
    {
      "cell_type": "code",
      "metadata": {
        "id": "NAxyrtuAgyAx",
        "outputId": "dc3a812a-2592-45e2-fdcc-63a9f2eee839",
        "colab": {
          "base_uri": "https://localhost:8080/"
        }
      },
      "source": [
        "m   = X.shape[0] # number of instances \n",
        "n_x = X.shape[1] # number of features, pixels in this case\n",
        "\n",
        "print(m,n_x)"
      ],
      "execution_count": 6,
      "outputs": [
        {
          "output_type": "stream",
          "name": "stdout",
          "text": [
            "60000 784\n"
          ]
        }
      ]
    },
    {
      "cell_type": "code",
      "metadata": {
        "id": "nnSHghdVu5mm",
        "outputId": "0b9497a1-de13-4b82-8228-fe8f8b237ca8",
        "colab": {
          "base_uri": "https://localhost:8080/"
        }
      },
      "source": [
        "#one iteration, semi-vectorized\n",
        "\n",
        "J = 0\n",
        "w = np.zeros((n_x,1))  # w is (784,1)\n",
        "b = 0\n",
        "alpha = 0.1\n",
        "\n",
        "dw = 0;\n",
        "db = 0;\n",
        "\n",
        "start_time = time.time()\n",
        "\n",
        "for i in range(m):\n",
        "    x = np.reshape(X[i], (1,n_x))  # x is (1,784). If we don't do reshape, it is (784,)\n",
        "    y = Y[i,0]                     # y is scalar\n",
        "\n",
        "    z = x @ w + b   # w is (784,1). x @ y is a number. z is also a number.\n",
        "    a = 1/(1+np.exp(-z))  # a is a number\n",
        "    J += -(y*np.log(a)+(1-y)*np.log(1-a))  # J is a number. It is the cross-entropy cost function.\n",
        "    \n",
        "    dz = a - y          # dz is a number\n",
        "    dw += (x * dz).T    # dw is (1,784).T   i.e. (784,1) so it matches w's dimensions.  \n",
        "    db += dz            # db is a number\n",
        "    # We added the contribution of each instance.\n",
        "        \n",
        "J /= m; dw /= m; db /= m\n",
        "\n",
        "w -= alpha*dw\n",
        "b -= alpha*db\n",
        "\n",
        "print(time.time() - start_time)"
      ],
      "execution_count": 10,
      "outputs": [
        {
          "output_type": "stream",
          "name": "stdout",
          "text": [
            "2.3334262371063232\n"
          ]
        }
      ]
    },
    {
      "cell_type": "code",
      "metadata": {
        "id": "vwe2WdlTu5mp",
        "outputId": "72beddd1-889b-45cb-8eaa-0493a38ed764",
        "colab": {
          "base_uri": "https://localhost:8080/"
        }
      },
      "source": [
        "#one iteration, fully vectorized, no for loop at all\n",
        "\n",
        "# Initialization is the same as before.\n",
        "J = 0\n",
        "w = np.zeros((n_x,1))\n",
        "b = 0\n",
        "alpha = 0.1\n",
        "\n",
        "start_time = time.time()\n",
        "\n",
        "# Convention: \n",
        "# Use capital letter when the variable is for the whole dataset of m train examples.\n",
        "\n",
        "# X is (55000,784), Y is (55000,1), w is (784,1), b is scalar  \n",
        "Z = X @ w + b               # Z is  (55000, 1)\n",
        "A = 1/(1+np.exp(-Z))        # A is  (55000, 1)\n",
        "J = -(1/m)*np.sum(Y*np.log(A)+(1-Y)*np.log(1-A))\n",
        "\n",
        "dZ = A - Y                 # dZ is (55000, 1)\n",
        "#dw = (1/m) * np.sum(X*dZ, axis=0, keepdims=True).T   # X*dZ is (55000,784), dw is (784, 1) \n",
        "# It can be verified that the above commented line can be replaced by the next line.  \n",
        "dw = (1/m) * X.T @ dZ      # X*dZ is (55000,784), dw is (784, 1)\n",
        "db = (1/m) * np.sum(dZ)\n",
        "print(dw.shape)\n",
        "    \n",
        "w -= alpha*dw\n",
        "b -= alpha*db\n",
        "\n",
        "print(time.time() - start_time)"
      ],
      "execution_count": 9,
      "outputs": [
        {
          "output_type": "stream",
          "name": "stdout",
          "text": [
            "(784, 1)\n",
            "0.1967620849609375\n"
          ]
        }
      ]
    }
  ]
}